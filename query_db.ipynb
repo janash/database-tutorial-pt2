{
 "cells": [
  {
   "cell_type": "code",
   "execution_count": 1,
   "metadata": {},
   "outputs": [],
   "source": [
    "from sqlmodel import SQLModel, Field, Session, create_engine, select\n",
    "from typing import List, Optional\n",
    "from sqlmodel import Relationship\n",
    "\n",
    "import pandas as pd\n",
    "\n",
    "from build_db.models import *\n",
    "\n",
    "# Create the database engine\n",
    "engine = create_engine(\"sqlite:///tmqm.db\")\n",
    "\n"
   ]
  },
  {
   "cell_type": "code",
   "execution_count": null,
   "metadata": {},
   "outputs": [],
   "source": [
    "from sqlmodel import select\n",
    "\n",
    "# Define the session to interact with the database\n",
    "with Session(engine) as session:\n",
    "    # Create a SQL query to select structures where 'stoichometry' contains \"La\" and there are more than 100 atoms\n",
    "    query = select(Structure).where(Structure.stoichometry.contains(\"La\")).where(Structure.num_atoms > 100) \n",
    "\n",
    "    # print the constructed sql query\n",
    "    print(query)\n",
    "    \n",
    "    # Execute the query and fetch the results\n",
    "    results = session.exec(query).all()\n",
    "\n",
    "    # Make a dataframe with the results\n",
    "    records = [i.model_dump() for i in results] # i.model_dump results in a dictionary\n",
    "    df = pd.DataFrame.from_records(records)\n",
    "\n",
    "    # Get all of the properties\n",
    "    props = []\n",
    "    for structure in results:\n",
    "        #print(f\"ID: {structure.id}, Stoichometry: {structure.stoichometry}, Num Atoms: {structure.num_atoms}\")\n",
    "\n",
    "        # we can retrieve properties this way because of relationships we set up on the models\n",
    "        # this would be more complicated if there was more than one set of coordinates per structure\n",
    "        props.extend( p.model_dump() for p in structure.coordinates[0].properties) \n",
    "\n",
    "df.info()"
   ]
  },
  {
   "cell_type": "code",
   "execution_count": null,
   "metadata": {},
   "outputs": [],
   "source": [
    "import pandas as pd\n",
    "\n",
    "df2 = pd.DataFrame(props)\n",
    "df2.info()"
   ]
  },
  {
   "cell_type": "code",
   "execution_count": null,
   "metadata": {},
   "outputs": [],
   "source": [
    "df.head()"
   ]
  },
  {
   "cell_type": "code",
   "execution_count": null,
   "metadata": {},
   "outputs": [],
   "source": [
    "df2.head()"
   ]
  },
  {
   "cell_type": "code",
   "execution_count": null,
   "metadata": {},
   "outputs": [],
   "source": [
    "df2.sort_values(by=['coordinates_id', 'property'], inplace=True)\n",
    "\n",
    "# Pivot the DataFrame, keeping 'coordinates_id' as the row identifier\n",
    "wide_df = df2.pivot_table(index='coordinates_id', columns='property', values='value', aggfunc='first').reset_index()\n",
    "\n",
    "# Reset the column names\n",
    "wide_df.columns.name = None  # Remove the 'property' label from the columns\n",
    "\n",
    "# Display the result\n",
    "wide_df.head()\n"
   ]
  },
  {
   "cell_type": "code",
   "execution_count": null,
   "metadata": {},
   "outputs": [],
   "source": [
    "# Print an xyz file\n",
    "print(results[0].coordinates[0].xyz)"
   ]
  },
  {
   "cell_type": "code",
   "execution_count": null,
   "metadata": {},
   "outputs": [],
   "source": [
    "import py3Dmol\n",
    "\n",
    "xyzview = py3Dmol.view(width=400,height=400)\n",
    "xyzview.addModel(results[0].coordinates[0].xyz,'xyz')\n",
    "xyzview.setStyle({'stick':{}})\n",
    "xyzview.setBackgroundColor('0xeeeeee')\n",
    "\n",
    "\n",
    "xyzview.zoomTo()\n",
    "xyzview.show()"
   ]
  },
  {
   "cell_type": "code",
   "execution_count": null,
   "metadata": {},
   "outputs": [],
   "source": []
  }
 ],
 "metadata": {
  "kernelspec": {
   "display_name": "Python 3 (ipykernel)",
   "language": "python",
   "name": "python3"
  },
  "language_info": {
   "codemirror_mode": {
    "name": "ipython",
    "version": 3
   },
   "file_extension": ".py",
   "mimetype": "text/x-python",
   "name": "python",
   "nbconvert_exporter": "python",
   "pygments_lexer": "ipython3",
   "version": "3.12.5"
  }
 },
 "nbformat": 4,
 "nbformat_minor": 4
}
